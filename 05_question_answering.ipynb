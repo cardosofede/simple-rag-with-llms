{
 "cells": [
  {
   "cell_type": "code",
   "execution_count": null,
   "outputs": [],
   "source": [
    "from dotenv import load_dotenv\n",
    "from langchain.vectorstores.chroma import Chroma\n",
    "from langchain.embeddings import OpenAIEmbeddings\n",
    "\n",
    "load_dotenv()\n",
    "embedding = OpenAIEmbeddings()\n",
    "vectordb = Chroma(\n",
    "    collection_name=\"constitucion_argentina_v2\",\n",
    "    persist_directory=\"vector_store\",\n",
    "    embedding_function=embedding\n",
    ")"
   ],
   "metadata": {
    "collapsed": false
   }
  },
  {
   "cell_type": "code",
   "execution_count": null,
   "outputs": [],
   "source": [
    "from langchain.prompts import ChatPromptTemplate\n",
    "\n",
    "template = \"\"\"\n",
    "Eres un abogado especializado en derecho constitucional argentino y debes utilizar la Constitución Argentina y la jurisprudencia relevante para responder preguntas y resolver dudas relacionadas con derechos y obligaciones legales de los ciudadanos argentinos. Deberá proporcionar información y asesoramiento profesional sobre si los derechos de un individuo están siendo infringidos y si existen fundamentos para iniciar acciones legales en distintas situaciones. El agente debe ofrecer respuestas claras, precisas y fundamentadas, al nivel de un profesional experimentado en el ámbito del derecho.\n",
    "La respuesta debe estar amparada en alguno de los articulos de la constitucion que se detallan a continuacion:\n",
    "{articulos_de_la_constitucion}\n",
    "Reponde la siguiente pregunta con total seguridad y fundamentos en menos de 4 parrafos y sin sugerir consultas a otros profesionales:\n",
    "{pregunta}\n",
    "\"\"\""
   ],
   "metadata": {
    "collapsed": false
   }
  },
  {
   "cell_type": "code",
   "execution_count": null,
   "outputs": [],
   "source": [
    "from langchain.schema import StrOutputParser\n",
    "from langchain.chat_models import ChatOpenAI\n",
    "from langchain.schema.runnable import RunnableMap\n",
    "\n",
    "prompt = ChatPromptTemplate.from_template(template=template)\n",
    "retriever = vectordb.as_retriever(search_type=\"mmr\", k=5, fetch_k=10)\n",
    "model = ChatOpenAI(temperature=0.2)\n",
    "output_parser = StrOutputParser()\n",
    "\n",
    "chain = RunnableMap({\n",
    "    \"articulos_de_la_constitucion\": lambda x: retriever.get_relevant_documents(x[\"pregunta\"]),\n",
    "    \"pregunta\": lambda x: x[\"pregunta\"]\n",
    "}) | prompt | model | output_parser"
   ],
   "metadata": {
    "collapsed": false
   }
  },
  {
   "cell_type": "code",
   "execution_count": null,
   "outputs": [],
   "source": [
    "respuesta = chain.invoke({\n",
    "    \"pregunta\": \"¿Puedo salir de mi casa?\"\n",
    "})"
   ],
   "metadata": {
    "collapsed": false
   }
  },
  {
   "cell_type": "code",
   "execution_count": null,
   "outputs": [],
   "source": [
    "print(respuesta)"
   ],
   "metadata": {
    "collapsed": false
   }
  },
  {
   "cell_type": "code",
   "execution_count": null,
   "outputs": [],
   "source": [
    "respuesta = chain.invoke({\n",
    "    \"pregunta\": \"¿Puedo cortar la calle para realizar una manifestacion ya que mi empleador no me quiere subir el salario?\"\n",
    "})"
   ],
   "metadata": {
    "collapsed": false
   }
  },
  {
   "cell_type": "code",
   "execution_count": null,
   "outputs": [],
   "source": [
    "print(respuesta)"
   ],
   "metadata": {
    "collapsed": false
   }
  },
  {
   "cell_type": "code",
   "execution_count": null,
   "outputs": [],
   "source": [
    "respuesta = chain.invoke({\n",
    "    \"pregunta\": \"¿A que hace referencia el articulo 18 sobre el principio de legalidad?\"\n",
    "})"
   ],
   "metadata": {
    "collapsed": false
   }
  },
  {
   "cell_type": "code",
   "execution_count": null,
   "outputs": [],
   "source": [
    "print(respuesta)"
   ],
   "metadata": {
    "collapsed": false
   }
  },
  {
   "cell_type": "code",
   "execution_count": null,
   "outputs": [],
   "source": [
    "respuesta = chain.invoke({\n",
    "    \"pregunta\": \"¿Que pasa con los tratados internacionales firmados por Argentina, tiene algun rango de jerarquía frente a la constitucion?\"\n",
    "})"
   ],
   "metadata": {
    "collapsed": false
   }
  },
  {
   "cell_type": "code",
   "execution_count": null,
   "outputs": [],
   "source": [
    "print(respuesta)"
   ],
   "metadata": {
    "collapsed": false
   }
  },
  {
   "cell_type": "code",
   "execution_count": null,
   "outputs": [],
   "source": [
    "respuesta = chain.invoke({\n",
    "    \"pregunta\": \"¿A que hace referecia el articulo 14 bis sobre el derecho de los trabajadores?\"\n",
    "})"
   ],
   "metadata": {
    "collapsed": false
   }
  },
  {
   "cell_type": "code",
   "execution_count": null,
   "outputs": [],
   "source": [],
   "metadata": {
    "collapsed": false
   }
  }
 ],
 "metadata": {
  "kernelspec": {
   "display_name": "Python 3",
   "language": "python",
   "name": "python3"
  },
  "language_info": {
   "codemirror_mode": {
    "name": "ipython",
    "version": 2
   },
   "file_extension": ".py",
   "mimetype": "text/x-python",
   "name": "python",
   "nbconvert_exporter": "python",
   "pygments_lexer": "ipython2",
   "version": "2.7.6"
  }
 },
 "nbformat": 4,
 "nbformat_minor": 0
}
