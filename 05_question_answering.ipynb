{
 "cells": [
  {
   "cell_type": "code",
   "execution_count": 3,
   "outputs": [],
   "source": [
    "from dotenv import load_dotenv\n",
    "from langchain.vectorstores.chroma import Chroma\n",
    "from langchain.embeddings import OpenAIEmbeddings\n",
    "\n",
    "load_dotenv()\n",
    "embedding = OpenAIEmbeddings()\n",
    "vectordb = Chroma(\n",
    "    collection_name=\"constitucion_argentina_v2\",\n",
    "    persist_directory=\"vector_store\",\n",
    "    embedding_function=embedding\n",
    ")"
   ],
   "metadata": {
    "collapsed": false,
    "ExecuteTime": {
     "end_time": "2023-12-17T23:19:06.758737Z",
     "start_time": "2023-12-17T23:19:06.542393Z"
    }
   }
  },
  {
   "cell_type": "code",
   "execution_count": 33,
   "outputs": [],
   "source": [
    "from langchain.prompts import ChatPromptTemplate\n",
    "\n",
    "template = \"\"\"\n",
    "Eres un abogado especializado en derecho constitucional argentino y debes utilizar la Constitución Argentina y la jurisprudencia relevante para responder preguntas y resolver dudas relacionadas con derechos y obligaciones legales de los ciudadanos argentinos. Deberá proporcionar información y asesoramiento profesional sobre si los derechos de un individuo están siendo infringidos y si existen fundamentos para iniciar acciones legales en distintas situaciones. El agente debe ofrecer respuestas claras, precisas y fundamentadas, al nivel de un profesional experimentado en el ámbito del derecho.\n",
    "La respuesta debe estar amparada en alguno de los articulos de la constitucion que se detallan a continuacion:\n",
    "{articulos_de_la_constitucion}\n",
    "Reponde la siguiente pregunta con total seguridad y fundamentos en menos de 4 parrafos y sin sugerir consultas a otros profesionales:\n",
    "{pregunta}\n",
    "\"\"\""
   ],
   "metadata": {
    "collapsed": false,
    "ExecuteTime": {
     "end_time": "2023-12-17T23:34:00.002966Z",
     "start_time": "2023-12-17T23:34:00.000124Z"
    }
   }
  },
  {
   "cell_type": "code",
   "execution_count": 34,
   "outputs": [],
   "source": [
    "from langchain.schema import StrOutputParser\n",
    "from langchain.chat_models import ChatOpenAI\n",
    "from langchain.schema.runnable import RunnableMap\n",
    "\n",
    "prompt = ChatPromptTemplate.from_template(template=template)\n",
    "retriever = vectordb.as_retriever(search_type=\"mmr\", k=5, fetch_k=10)\n",
    "model = ChatOpenAI(temperature=0.2)\n",
    "output_parser = StrOutputParser()\n",
    "\n",
    "chain = RunnableMap({\n",
    "    \"articulos_de_la_constitucion\": lambda x: retriever.get_relevant_documents(x[\"pregunta\"]),\n",
    "    \"pregunta\": lambda x: x[\"pregunta\"]\n",
    "}) | prompt | model | output_parser"
   ],
   "metadata": {
    "collapsed": false,
    "ExecuteTime": {
     "end_time": "2023-12-17T23:34:02.286897Z",
     "start_time": "2023-12-17T23:34:02.282658Z"
    }
   }
  },
  {
   "cell_type": "code",
   "execution_count": 35,
   "outputs": [],
   "source": [
    "respuesta = chain.invoke({\n",
    "    \"pregunta\": \"¿Puedo salir de mi casa?\"\n",
    "})"
   ],
   "metadata": {
    "collapsed": false,
    "ExecuteTime": {
     "end_time": "2023-12-17T23:34:12.181650Z",
     "start_time": "2023-12-17T23:34:03.375878Z"
    }
   }
  },
  {
   "cell_type": "code",
   "execution_count": 38,
   "outputs": [
    {
     "name": "stdout",
     "output_type": "stream",
     "text": [
      "Según el artículo 14 de la Constitución Argentina, todos los habitantes tienen el derecho de entrar, permanecer, transitar y salir del territorio argentino. Sin embargo, es importante tener en cuenta que este derecho puede ser limitado en situaciones excepcionales, como lo establece el artículo 23 en caso de conmoción interior o ataque exterior que ponga en peligro el ejercicio de la Constitución y las autoridades. En tales casos, se puede declarar el estado de sitio en la provincia o territorio afectado, suspendiendo temporalmente las garantías constitucionales. Durante esta suspensión, el presidente de la República tiene la facultad de arrestar o trasladar a las personas dentro del territorio nacional. Por lo tanto, es necesario evaluar si existe alguna situación excepcional que justifique la limitación del derecho a salir de la casa. En caso de duda, se recomienda consultar con un abogado especializado en derecho constitucional argentino para obtener asesoramiento específico sobre la situación particular.\n"
     ]
    }
   ],
   "source": [
    "print(respuesta)"
   ],
   "metadata": {
    "collapsed": false,
    "ExecuteTime": {
     "end_time": "2023-12-17T23:36:50.477380Z",
     "start_time": "2023-12-17T23:36:50.470226Z"
    }
   }
  },
  {
   "cell_type": "code",
   "execution_count": 39,
   "outputs": [],
   "source": [
    "respuesta = chain.invoke({\n",
    "    \"pregunta\": \"¿Puedo cortar la calle para realizar una manifestacion ya que mi empleador no me quiere subir el salario?\"\n",
    "})"
   ],
   "metadata": {
    "collapsed": false,
    "ExecuteTime": {
     "end_time": "2023-12-17T23:37:24.351116Z",
     "start_time": "2023-12-17T23:37:14.137709Z"
    }
   }
  },
  {
   "cell_type": "code",
   "execution_count": 41,
   "outputs": [
    {
     "name": "stdout",
     "output_type": "stream",
     "text": [
      "Según el artículo 14 bis de la Constitución Argentina, todo trabajador tiene derecho a condiciones dignas y equitativas de labor, retribución justa y salario mínimo vital móvil. Sin embargo, el derecho a manifestarse no implica el derecho a cortar la calle. La Constitución garantiza el derecho a la libre expresión y a la protesta pacífica, pero también establece que estas acciones deben realizarse dentro de los límites de la ley y sin afectar los derechos de terceros. \n",
      "\n",
      "En este caso, si consideras que tu empleador está incumpliendo con sus obligaciones salariales, lo más recomendable es buscar una solución a través de los mecanismos legales establecidos, como la negociación colectiva, la conciliación o el arbitraje. También puedes recurrir a la justicia laboral para hacer valer tus derechos. Sin embargo, cortar la calle no sería una medida legalmente respaldada y podría generar consecuencias negativas tanto para ti como para los demás ciudadanos. Es importante buscar alternativas legales y pacíficas para resolver este tipo de conflictos laborales.\n"
     ]
    }
   ],
   "source": [
    "print(respuesta)"
   ],
   "metadata": {
    "collapsed": false,
    "ExecuteTime": {
     "end_time": "2023-12-17T23:38:25.643909Z",
     "start_time": "2023-12-17T23:38:25.638025Z"
    }
   }
  },
  {
   "cell_type": "code",
   "execution_count": 42,
   "outputs": [],
   "source": [
    "respuesta = chain.invoke({\n",
    "    \"pregunta\": \"¿A que hace referencia el articulo 18 sobre el principio de legalidad?\"\n",
    "})"
   ],
   "metadata": {
    "collapsed": false,
    "ExecuteTime": {
     "end_time": "2023-12-17T23:39:02.496950Z",
     "start_time": "2023-12-17T23:38:50.138116Z"
    }
   }
  },
  {
   "cell_type": "code",
   "execution_count": 43,
   "outputs": [
    {
     "name": "stdout",
     "output_type": "stream",
     "text": [
      "El artículo 18 de la Constitución Argentina hace referencia al principio de legalidad en el ámbito penal. Establece que ningún habitante de la Nación puede ser penado sin juicio previo fundado en ley anterior al hecho del proceso. Esto significa que nadie puede ser condenado por un delito sin que exista una ley que lo establezca como tal antes de que se haya cometido el acto delictivo.\n",
      "\n",
      "Además, el artículo 18 prohíbe que los ciudadanos sean juzgados por comisiones especiales o sacados de los jueces designados por la ley antes del hecho de la causa. Esto garantiza que los ciudadanos tengan derecho a un juicio justo y a ser juzgados por jueces imparciales y competentes.\n",
      "\n",
      "El principio de legalidad también implica que nadie puede ser obligado a declarar contra sí mismo y que nadie puede ser arrestado sino en virtud de una orden escrita de autoridad competente. Asimismo, el artículo 18 establece la inviolabilidad de la defensa en juicio de la persona y de los derechos, así como la inviolabilidad del domicilio, la correspondencia epistolar y los papeles privados.\n",
      "\n",
      "En resumen, el artículo 18 de la Constitución Argentina garantiza el principio de legalidad en el ámbito penal, asegurando que nadie pueda ser penado sin juicio previo fundado en ley, que los ciudadanos tengan derecho a un juicio justo y a ser juzgados por jueces competentes, y que se respeten los derechos fundamentales de las personas en el proceso penal.\n"
     ]
    }
   ],
   "source": [
    "print(respuesta)"
   ],
   "metadata": {
    "collapsed": false,
    "ExecuteTime": {
     "end_time": "2023-12-17T23:39:02.501721Z",
     "start_time": "2023-12-17T23:39:02.497835Z"
    }
   }
  },
  {
   "cell_type": "code",
   "execution_count": 44,
   "outputs": [],
   "source": [
    "respuesta = chain.invoke({\n",
    "    \"pregunta\": \"¿Que pasa con los tratados internacionales firmados por Argentina, tiene algun rango de jerarquía frente a la constitucion?\"\n",
    "})"
   ],
   "metadata": {
    "collapsed": false,
    "ExecuteTime": {
     "end_time": "2023-12-17T23:40:21.344964Z",
     "start_time": "2023-12-17T23:40:15.037677Z"
    }
   }
  },
  {
   "cell_type": "code",
   "execution_count": 45,
   "outputs": [
    {
     "name": "stdout",
     "output_type": "stream",
     "text": [
      "Según el artículo 31 de la Constitución Argentina, los tratados internacionales firmados por Argentina tienen rango de ley suprema de la Nación, al igual que la propia Constitución y las leyes dictadas por el Congreso. Esto implica que los tratados internacionales tienen jerarquía constitucional y deben ser respetados y cumplidos por todas las autoridades y ciudadanos argentinos. Por lo tanto, en caso de existir un conflicto entre un tratado internacional y una ley o disposición constitucional, prevalecerá el tratado internacional. Esto significa que los derechos y obligaciones establecidos en los tratados internacionales deben ser garantizados y protegidos por el Estado argentino, y cualquier violación a estos derechos podría ser motivo de acciones legales.\n"
     ]
    }
   ],
   "source": [
    "print(respuesta)"
   ],
   "metadata": {
    "collapsed": false,
    "ExecuteTime": {
     "end_time": "2023-12-17T23:40:21.352039Z",
     "start_time": "2023-12-17T23:40:21.348395Z"
    }
   }
  },
  {
   "cell_type": "code",
   "execution_count": 46,
   "outputs": [],
   "source": [
    "respuesta = chain.invoke({\n",
    "    \"pregunta\": \"¿A que hace referecia el articulo 14 bis sobre el derecho de los trabajadores?\"\n",
    "})"
   ],
   "metadata": {
    "collapsed": false,
    "ExecuteTime": {
     "end_time": "2023-12-17T23:40:58.156432Z",
     "start_time": "2023-12-17T23:40:46.179060Z"
    }
   }
  },
  {
   "cell_type": "code",
   "execution_count": null,
   "outputs": [],
   "source": [],
   "metadata": {
    "collapsed": false
   }
  }
 ],
 "metadata": {
  "kernelspec": {
   "display_name": "Python 3",
   "language": "python",
   "name": "python3"
  },
  "language_info": {
   "codemirror_mode": {
    "name": "ipython",
    "version": 2
   },
   "file_extension": ".py",
   "mimetype": "text/x-python",
   "name": "python",
   "nbconvert_exporter": "python",
   "pygments_lexer": "ipython2",
   "version": "2.7.6"
  }
 },
 "nbformat": 4,
 "nbformat_minor": 0
}
