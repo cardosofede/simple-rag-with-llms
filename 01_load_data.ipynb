{
 "cells": [
  {
   "cell_type": "code",
   "execution_count": 26,
   "metadata": {
    "collapsed": true,
    "ExecuteTime": {
     "end_time": "2023-12-17T22:41:37.822809Z",
     "start_time": "2023-12-17T22:41:37.816590Z"
    }
   },
   "outputs": [],
   "source": [
    "from dotenv import load_dotenv\n",
    "from langchain.document_loaders.pdf import PyPDFLoader\n",
    "\n",
    "load_dotenv()\n",
    "file_path = \"documents/derechoshumanos_publicaciones_colecciondebolsillo_01_constitucion_nacion_argentina.pdf\"\n",
    "\n",
    "pdf_loader = PyPDFLoader(file_path=file_path)\n",
    "\n"
   ]
  },
  {
   "cell_type": "code",
   "execution_count": 27,
   "outputs": [],
   "source": [
    "docs = pdf_loader.load()"
   ],
   "metadata": {
    "collapsed": false,
    "ExecuteTime": {
     "end_time": "2023-12-17T22:41:43.115545Z",
     "start_time": "2023-12-17T22:41:42.863969Z"
    }
   }
  },
  {
   "cell_type": "code",
   "execution_count": 28,
   "outputs": [
    {
     "data": {
      "text/plain": "70"
     },
     "execution_count": 28,
     "metadata": {},
     "output_type": "execute_result"
    }
   ],
   "source": [
    "len(docs)"
   ],
   "metadata": {
    "collapsed": false,
    "ExecuteTime": {
     "end_time": "2023-12-17T22:41:43.241408Z",
     "start_time": "2023-12-17T22:41:43.238464Z"
    }
   }
  },
  {
   "cell_type": "code",
   "execution_count": 29,
   "outputs": [
    {
     "data": {
      "text/plain": "'Esta publicación fue realizada por el Área de Publicacio-\\nnes de la Secretaría de Derechos Humanos y Pluralismo Cultural del Ministerio de Justicia y Derechos Humanos de la Nación.\\nAv. del Libertador 8151\\nCiudad Autónoma de Buenos Airespublicacionessdh@jus.gob.arwww.derhuman.jus.gob.ar\\nHecho el depósito que establece la Ley N\\no 11.723\\nImpreso en la Argentina1a edición: abril de 2016\\n© Secretaría de Derechos Humanos y Pluralismo CulturalArgentina. Constitución\\n   Constitución de la Nación Argentina. - 1a ed . - Ciu-dad Autónoma de Buenos Aires : Ministerio de Justicia y Derechos Humanos de la Nación. Secretaría de Dere-chos Humanos y Pluralismo Cultural, 2016.   68 p. ; 13 x 9 cm. - (De bolsillo)\\n   ISBN 978-987-4017-10-9   1. Constitución de la Nación Argentina.    \\n  CDD 342.023'"
     },
     "execution_count": 29,
     "metadata": {},
     "output_type": "execute_result"
    }
   ],
   "source": [
    "docs[2].page_content"
   ],
   "metadata": {
    "collapsed": false,
    "ExecuteTime": {
     "end_time": "2023-12-17T22:41:43.604818Z",
     "start_time": "2023-12-17T22:41:43.602361Z"
    }
   }
  },
  {
   "cell_type": "code",
   "execution_count": 30,
   "outputs": [],
   "source": [
    "docs_with_few_words = [doc for doc in docs if len(doc.page_content) < 200]"
   ],
   "metadata": {
    "collapsed": false,
    "ExecuteTime": {
     "end_time": "2023-12-17T22:41:44.107141Z",
     "start_time": "2023-12-17T22:41:44.105458Z"
    }
   }
  },
  {
   "cell_type": "code",
   "execution_count": 31,
   "outputs": [
    {
     "data": {
      "text/plain": "8"
     },
     "execution_count": 31,
     "metadata": {},
     "output_type": "execute_result"
    }
   ],
   "source": [
    "len(docs_with_few_words)"
   ],
   "metadata": {
    "collapsed": false,
    "ExecuteTime": {
     "end_time": "2023-12-17T22:41:44.333541Z",
     "start_time": "2023-12-17T22:41:44.331167Z"
    }
   }
  },
  {
   "cell_type": "code",
   "execution_count": 32,
   "outputs": [
    {
     "name": "stdout",
     "output_type": "stream",
     "text": [
      "0\n",
      "\n",
      "----\n",
      "1\n",
      "Constitu Ción \n",
      "de la\n",
      " \n",
      "n\n",
      "aC\n",
      "ión \n",
      "a\n",
      "rgentina\n",
      "----\n",
      "2\n",
      "Presidente de la Nación\n",
      "Ing. Mauricio Macri \n",
      " \n",
      "Ministro de Justicia y Derechos Humanos\n",
      "Dr. Germán Garavano \n",
      "Secretario de Derechos Humanos \n",
      "y Pluralismo Cultural \n",
      "Lic. Claudio Avruj \n",
      "----\n",
      "3\n",
      "\n",
      "----\n",
      "4\n",
      "\n",
      "----\n",
      "5\n",
      "\n",
      "----\n",
      "6\n",
      "\n",
      "----\n",
      "7\n",
      "\n",
      "----\n"
     ]
    }
   ],
   "source": [
    "for i, doc in enumerate(docs_with_few_words):\n",
    "    print(i)\n",
    "    print(doc.page_content)\n",
    "    print(\"----\")"
   ],
   "metadata": {
    "collapsed": false,
    "ExecuteTime": {
     "end_time": "2023-12-17T22:41:44.641978Z",
     "start_time": "2023-12-17T22:41:44.639736Z"
    }
   }
  },
  {
   "cell_type": "code",
   "execution_count": 33,
   "outputs": [],
   "source": [
    "documents_to_store = [doc for doc in docs if len(doc.page_content) > 100]"
   ],
   "metadata": {
    "collapsed": false,
    "ExecuteTime": {
     "end_time": "2023-12-17T22:41:46.233451Z",
     "start_time": "2023-12-17T22:41:46.231174Z"
    }
   }
  },
  {
   "cell_type": "code",
   "execution_count": 34,
   "outputs": [
    {
     "data": {
      "text/plain": "63"
     },
     "execution_count": 34,
     "metadata": {},
     "output_type": "execute_result"
    }
   ],
   "source": [
    "len(documents_to_store)"
   ],
   "metadata": {
    "collapsed": false,
    "ExecuteTime": {
     "end_time": "2023-12-17T22:41:46.928417Z",
     "start_time": "2023-12-17T22:41:46.926511Z"
    }
   }
  },
  {
   "cell_type": "code",
   "execution_count": 35,
   "outputs": [],
   "source": [
    "from langchain.vectorstores.chroma import Chroma\n",
    "from langchain.embeddings import OpenAIEmbeddings\n",
    "\n",
    "embedding = OpenAIEmbeddings()\n",
    "vectordb = Chroma.from_documents(\n",
    "        collection_name=\"constitucion_argentina\",\n",
    "        documents=documents_to_store,\n",
    "        embedding=embedding,\n",
    "        persist_directory=\"vector_store\",\n",
    "    )"
   ],
   "metadata": {
    "collapsed": false,
    "ExecuteTime": {
     "end_time": "2023-12-17T22:43:53.546004Z",
     "start_time": "2023-12-17T22:43:45.502630Z"
    }
   }
  },
  {
   "cell_type": "code",
   "execution_count": null,
   "outputs": [],
   "source": [],
   "metadata": {
    "collapsed": false
   }
  }
 ],
 "metadata": {
  "kernelspec": {
   "display_name": "Python 3",
   "language": "python",
   "name": "python3"
  },
  "language_info": {
   "codemirror_mode": {
    "name": "ipython",
    "version": 2
   },
   "file_extension": ".py",
   "mimetype": "text/x-python",
   "name": "python",
   "nbconvert_exporter": "python",
   "pygments_lexer": "ipython2",
   "version": "2.7.6"
  }
 },
 "nbformat": 4,
 "nbformat_minor": 0
}
