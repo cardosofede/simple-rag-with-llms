{
 "cells": [
  {
   "cell_type": "code",
   "execution_count": 3,
   "metadata": {
    "collapsed": true,
    "ExecuteTime": {
     "end_time": "2023-12-17T22:51:52.638342Z",
     "start_time": "2023-12-17T22:51:52.632640Z"
    }
   },
   "outputs": [],
   "source": [
    "from dotenv import load_dotenv\n",
    "from langchain.vectorstores.chroma import Chroma\n",
    "from langchain.embeddings import OpenAIEmbeddings\n",
    "\n",
    "load_dotenv()\n",
    "\n",
    "embedding = OpenAIEmbeddings()\n",
    "\n",
    "vectordb = Chroma(\n",
    "    collection_name=\"constitucion_argentina\",\n",
    "    persist_directory=\"vector_store\",\n",
    "    embedding_function=embedding\n",
    ")"
   ]
  },
  {
   "cell_type": "code",
   "execution_count": 8,
   "outputs": [
    {
     "data": {
      "text/plain": "63"
     },
     "execution_count": 8,
     "metadata": {},
     "output_type": "execute_result"
    }
   ],
   "source": [
    "vectordb._collection.count()"
   ],
   "metadata": {
    "collapsed": false,
    "ExecuteTime": {
     "end_time": "2023-12-17T22:52:54.458171Z",
     "start_time": "2023-12-17T22:52:54.453951Z"
    }
   }
  },
  {
   "cell_type": "code",
   "execution_count": 15,
   "outputs": [],
   "source": [
    "from pprint import pprint\n",
    "\n",
    "\n",
    "def print_documents_data(documents):\n",
    "    for i, document in enumerate(documents):\n",
    "        print(f\"Document {i}\")\n",
    "        pprint(document.metadata)\n",
    "        pprint(document.page_content)"
   ],
   "metadata": {
    "collapsed": false,
    "ExecuteTime": {
     "end_time": "2023-12-17T22:53:49.412080Z",
     "start_time": "2023-12-17T22:53:49.408382Z"
    }
   }
  },
  {
   "cell_type": "code",
   "execution_count": 24,
   "outputs": [],
   "source": [
    "pregunta = \"¿Que implicancia tienen los tratados internacionales sobre la constitucion?\""
   ],
   "metadata": {
    "collapsed": false,
    "ExecuteTime": {
     "end_time": "2023-12-17T22:56:58.519072Z",
     "start_time": "2023-12-17T22:56:58.510012Z"
    }
   }
  },
  {
   "cell_type": "markdown",
   "source": [
    "# Similarity Search"
   ],
   "metadata": {
    "collapsed": false
   }
  },
  {
   "cell_type": "code",
   "execution_count": 22,
   "outputs": [],
   "source": [
    "documents_retrieved = vectordb.similarity_search(pregunta, k=5)"
   ],
   "metadata": {
    "collapsed": false,
    "ExecuteTime": {
     "end_time": "2023-12-17T22:56:48.894040Z",
     "start_time": "2023-12-17T22:56:48.514802Z"
    }
   }
  },
  {
   "cell_type": "code",
   "execution_count": 23,
   "outputs": [
    {
     "name": "stdout",
     "output_type": "stream",
     "text": [
      "Document 0\n",
      "{'page': 35,\n",
      " 'source': 'documents/derechoshumanos_publicaciones_colecciondebolsillo_01_constitucion_nacion_argentina.pdf'}\n",
      "('35\\n'\n",
      " 'atribuciones, dar pensiones, decretar honores, y con-\\n'\n",
      " 'ceder amnistías generales.\\n'\n",
      " '21. Admitir o desechar los motivos de dimisión \\n'\n",
      " 'del presidente o vicepresidente de la República; y de-clarar el caso de '\n",
      " 'proceder a nueva elección. \\n'\n",
      " '22. Aprobar o desechar tratados concluidos con \\n'\n",
      " 'las demás naciones y con las organizaciones interna-cionales y los '\n",
      " 'concordatos con la Santa Sede. Los trata-dos y concordatos tienen jerarquía '\n",
      " 'superior a las leyes.\\n'\n",
      " 'La Declaración Americana de los Derechos y \\n'\n",
      " 'Deberes del Hombre; la Declaración Universal de Derechos Humanos; la '\n",
      " 'Convención Americana sobre Derechos Humanos; el Pacto Internacional de '\n",
      " 'Dere-chos Económicos, Sociales y Culturales; el Pacto In-ternacional de '\n",
      " 'Derechos Civiles y Políticos y su Pro-tocolo Facultativo; la Convención '\n",
      " 'sobre la Prevención y la Sanción del Delito de Genocidio; la Convención '\n",
      " 'Internacional sobre la Eliminación de todas las Formas de Discriminación '\n",
      " 'Racial; la Convención sobre la Eli-minación de todas las Formas de '\n",
      " 'Discriminación con-tra la Mujer; la Convención contra la Tortura y otros '\n",
      " 'Tratos o Penas Crueles, Inhumanos o Degradantes; la Convención sobre los '\n",
      " 'Derechos del Niño; en las condi-ciones de su vigencia, tienen jerarquía '\n",
      " 'constitucional, no derogan artículo alguno de la primera parte de esta '\n",
      " 'Constitución y deben entenderse complementarios de los derechos y garantías '\n",
      " 'por ella reconocidos. Sólo po-drán ser denunciados, en su caso, por el Poder '\n",
      " 'Ejecu-tivo Nacional, previa aprobación de las dos terceras partes de la '\n",
      " 'totalidad de los miembros de cada Cámara.')\n",
      "Document 1\n",
      "{'page': 36,\n",
      " 'source': 'documents/derechoshumanos_publicaciones_colecciondebolsillo_01_constitucion_nacion_argentina.pdf'}\n",
      "('36\\n'\n",
      " 'Los demás tratados y convenciones sobre dere-\\n'\n",
      " 'chos humanos, luego de ser aprobados por el Congre-\\n'\n",
      " 'so, requerirán del voto de las dos terceras partes de la totalidad de los '\n",
      " 'miembros de cada Cámara para gozar de la jerarquía constitucional. \\n'\n",
      " '23. Legislar y promover medidas de acción posi-\\n'\n",
      " 'tiva que garanticen la igualdad real de oportunidades y de trato, y el pleno '\n",
      " 'goce y ejercicio de los derechos reconocidos por esta Constitución y por los '\n",
      " 'tratados internacionales vigentes sobre derechos humanos, en particular '\n",
      " 'respecto de los niños, las mujeres, los an-cianos y las personas con '\n",
      " 'discapacidad.\\n'\n",
      " 'Dictar un régimen de seguridad social especial e \\n'\n",
      " 'integral en protección del niño en situación de de-samparo, desde el '\n",
      " 'embarazo hasta la finalización del período de enseñanza elemental, y de la '\n",
      " 'madre du-rante el embarazo y el tiempo de lactancia. \\n'\n",
      " '24. Aprobar tratados de integración que dele-\\n'\n",
      " 'guen competencias y jurisdicción a organizaciones supraestatales en '\n",
      " 'condiciones de reciprocidad e igualdad, y que respeten el orden democrático '\n",
      " 'y los derechos humanos. Las normas dictadas en su conse-cuencia tienen '\n",
      " 'jerarquía superior a las leyes.\\n'\n",
      " 'La aprobación de estos tratados con Estados de \\n'\n",
      " 'Latinoamérica requerirá la mayoría absoluta de la totalidad de los miembros '\n",
      " 'de cada Cámara. En el caso de tratados con otros Estados, el Congreso de la '\n",
      " 'Nación, con la mayoría absoluta de los miembros presentes de cada Cámara, '\n",
      " 'declarará la conveniencia de la aprobación del tratado y sólo podrá ser '\n",
      " 'aproba-do con el voto de la mayoría absoluta de la totalidad ')\n",
      "Document 2\n",
      "{'page': 5,\n",
      " 'source': 'documents/derechoshumanos_publicaciones_colecciondebolsillo_01_constitucion_nacion_argentina.pdf'}\n",
      "('La Secretaría de Derechos Humanos y Plura-\\n'\n",
      " 'lismo Cultural presenta la Constitución Nacional \\n'\n",
      " 'y los instrumentos jurídicos internacionales con jerarquía constitucional, '\n",
      " 'adoptados en los ámbitos universal y regional.\\n'\n",
      " 'Se trata de declaraciones, pactos, convenciones \\n'\n",
      " 'y protocolos incorporados en el artículo 75, inciso 22, de la Constitución, '\n",
      " 'en la reforma de 1994, o cuya jerarquía constitucional fue otorgada por '\n",
      " 'leyes posteriores, y deben entenderse como complemen-to de los derechos y '\n",
      " 'garantías en ella reconocidos.\\n'\n",
      " 'Estos instrumentos se refieren a derechos, de-\\n'\n",
      " 'beres y libertades de todas las personas; a derechos civiles, políticos, '\n",
      " 'económicos, sociales y culturales; de niños, niñas y adolescentes; de las '\n",
      " 'personas con discapacidad; a la prevención y sanción del geno-cidio; a la '\n",
      " 'eliminación de la discriminación racial y contra la mujer; a la prevención y '\n",
      " 'erradicación de la tortura y la desaparición forzada, y a la '\n",
      " 'im-prescriptibilidad de los crímenes de guerra y de lesa humanidad.\\n'\n",
      " 'Estas ediciones, publicadas en la colección De \\n'\n",
      " 'Bolsillo, se proponen contribuir a la promoción y protección de los derechos '\n",
      " 'humanos. ')\n",
      "Document 3\n",
      "{'page': 16,\n",
      " 'source': 'documents/derechoshumanos_publicaciones_colecciondebolsillo_01_constitucion_nacion_argentina.pdf'}\n",
      "('16\\n'\n",
      " 'Artículo 29.- El Congreso no puede conceder al \\n'\n",
      " 'Ejecutivo nacional, ni las Legislaturas provinciales a \\n'\n",
      " 'los gobernadores de provincia, facultades extraordi-narias, ni la suma del '\n",
      " 'poder público, ni otorgarles su-misiones o supremacías por las que la vida, '\n",
      " 'el honor o las fortunas de los argentinos queden a merced de gobiernos o '\n",
      " 'persona alguna. Actos de esta naturaleza llevan consigo una nulidad '\n",
      " 'insanable, y sujetarán a los que los formulen, consientan o firmen, a la '\n",
      " 'respon-sabilidad y pena de los infames traidores a la patria.\\n'\n",
      " 'Artículo 30.- La Constitución puede reformarse \\n'\n",
      " 'en el todo o en cualquiera de sus partes. La necesidad de reforma debe ser '\n",
      " 'declarada por el Congreso con el voto de dos terceras partes, al menos, de '\n",
      " 'sus miem-bros; pero no se efectuará sino por una Convención convocada al '\n",
      " 'efecto. \\n'\n",
      " 'Artículo 31.- Esta Constitución, las leyes de la Na-\\n'\n",
      " 'ción que en su consecuencia se dicten por el Congreso y los tratados con las '\n",
      " 'potencias extranjeras son la ley suprema de la Nación; y las autoridades de '\n",
      " 'cada pro-vincia están obligadas a conformarse a ella, no obstan-te '\n",
      " 'cualquiera disposición en contrario que contengan las leyes o constituciones '\n",
      " 'provinciales, salvo para la provincia de Buenos Aires, los tratados '\n",
      " 'ratificados des-pués del Pacto de 11 de noviembre de 1859. \\n'\n",
      " 'Artículo 32.- El Congreso federal no dictará le-\\n'\n",
      " 'yes que restrinjan la libertad de imprenta o establez-can sobre ella la '\n",
      " 'jurisdicción federal. ')\n",
      "Document 4\n",
      "{'page': 66,\n",
      " 'source': 'documents/derechoshumanos_publicaciones_colecciondebolsillo_01_constitucion_nacion_argentina.pdf'}\n",
      "('66\\n'\n",
      " 'Hasta tanto se haya dictado el estatuto organiza-\\n'\n",
      " 'tivo la designación y remoción de los jueces de la \\n'\n",
      " 'ciudad de Buenos Aires se regirá por las disposiciones de los artículos 114 '\n",
      " 'y 115 de esta Constitución (co-rresponde al artículo 129). \\n'\n",
      " 'Decimosexta: Esta reforma entra en vigencia al \\n'\n",
      " 'día siguiente de su publicación. Los miembros de la Convención '\n",
      " 'Constituyente, el presidente de la Nación Argentina, los presidentes de las '\n",
      " 'Cámaras Legislativas y el Presidente de la Corte Suprema de Justicia prestan '\n",
      " 'juramento en un mismo acto el día 24 de agosto de 1994, en el Palacio San '\n",
      " 'José, Concepción del Uru-guay, Provincia de Entre Ríos. \\n'\n",
      " 'Cada poder del Estado y las autoridades provin-\\n'\n",
      " 'ciales y municipales disponen lo necesario para que sus miembros y '\n",
      " 'funcionarios juren esta Constitución. \\n'\n",
      " 'Decimoséptima: El texto constitucional ordena-\\n'\n",
      " 'do, sancionado por esta Convención Constituyente, reemplaza al hasta ahora '\n",
      " 'vigente. \\n'\n",
      " ' \\n'\n",
      " ' \\n'\n",
      " 'Dada en la sala de sesiones de la Convención \\n'\n",
      " 'Nacional Constituyente, en la ciudad de Santa Fe, a los veintidós días del '\n",
      " 'mes de agosto del año mil nove-cientos noventa y cuatro.')\n"
     ]
    }
   ],
   "source": [
    "print_documents_data(documents_retrieved)"
   ],
   "metadata": {
    "collapsed": false,
    "ExecuteTime": {
     "end_time": "2023-12-17T22:56:48.898391Z",
     "start_time": "2023-12-17T22:56:48.895198Z"
    }
   }
  },
  {
   "cell_type": "markdown",
   "source": [
    "# Max Marginal Relevance Search"
   ],
   "metadata": {
    "collapsed": false
   }
  },
  {
   "cell_type": "code",
   "execution_count": 25,
   "outputs": [
    {
     "name": "stdout",
     "output_type": "stream",
     "text": [
      "Document 0\n",
      "{'page': 35,\n",
      " 'source': 'documents/derechoshumanos_publicaciones_colecciondebolsillo_01_constitucion_nacion_argentina.pdf'}\n",
      "('35\\n'\n",
      " 'atribuciones, dar pensiones, decretar honores, y con-\\n'\n",
      " 'ceder amnistías generales.\\n'\n",
      " '21. Admitir o desechar los motivos de dimisión \\n'\n",
      " 'del presidente o vicepresidente de la República; y de-clarar el caso de '\n",
      " 'proceder a nueva elección. \\n'\n",
      " '22. Aprobar o desechar tratados concluidos con \\n'\n",
      " 'las demás naciones y con las organizaciones interna-cionales y los '\n",
      " 'concordatos con la Santa Sede. Los trata-dos y concordatos tienen jerarquía '\n",
      " 'superior a las leyes.\\n'\n",
      " 'La Declaración Americana de los Derechos y \\n'\n",
      " 'Deberes del Hombre; la Declaración Universal de Derechos Humanos; la '\n",
      " 'Convención Americana sobre Derechos Humanos; el Pacto Internacional de '\n",
      " 'Dere-chos Económicos, Sociales y Culturales; el Pacto In-ternacional de '\n",
      " 'Derechos Civiles y Políticos y su Pro-tocolo Facultativo; la Convención '\n",
      " 'sobre la Prevención y la Sanción del Delito de Genocidio; la Convención '\n",
      " 'Internacional sobre la Eliminación de todas las Formas de Discriminación '\n",
      " 'Racial; la Convención sobre la Eli-minación de todas las Formas de '\n",
      " 'Discriminación con-tra la Mujer; la Convención contra la Tortura y otros '\n",
      " 'Tratos o Penas Crueles, Inhumanos o Degradantes; la Convención sobre los '\n",
      " 'Derechos del Niño; en las condi-ciones de su vigencia, tienen jerarquía '\n",
      " 'constitucional, no derogan artículo alguno de la primera parte de esta '\n",
      " 'Constitución y deben entenderse complementarios de los derechos y garantías '\n",
      " 'por ella reconocidos. Sólo po-drán ser denunciados, en su caso, por el Poder '\n",
      " 'Ejecu-tivo Nacional, previa aprobación de las dos terceras partes de la '\n",
      " 'totalidad de los miembros de cada Cámara.')\n",
      "Document 1\n",
      "{'page': 5,\n",
      " 'source': 'documents/derechoshumanos_publicaciones_colecciondebolsillo_01_constitucion_nacion_argentina.pdf'}\n",
      "('La Secretaría de Derechos Humanos y Plura-\\n'\n",
      " 'lismo Cultural presenta la Constitución Nacional \\n'\n",
      " 'y los instrumentos jurídicos internacionales con jerarquía constitucional, '\n",
      " 'adoptados en los ámbitos universal y regional.\\n'\n",
      " 'Se trata de declaraciones, pactos, convenciones \\n'\n",
      " 'y protocolos incorporados en el artículo 75, inciso 22, de la Constitución, '\n",
      " 'en la reforma de 1994, o cuya jerarquía constitucional fue otorgada por '\n",
      " 'leyes posteriores, y deben entenderse como complemen-to de los derechos y '\n",
      " 'garantías en ella reconocidos.\\n'\n",
      " 'Estos instrumentos se refieren a derechos, de-\\n'\n",
      " 'beres y libertades de todas las personas; a derechos civiles, políticos, '\n",
      " 'económicos, sociales y culturales; de niños, niñas y adolescentes; de las '\n",
      " 'personas con discapacidad; a la prevención y sanción del geno-cidio; a la '\n",
      " 'eliminación de la discriminación racial y contra la mujer; a la prevención y '\n",
      " 'erradicación de la tortura y la desaparición forzada, y a la '\n",
      " 'im-prescriptibilidad de los crímenes de guerra y de lesa humanidad.\\n'\n",
      " 'Estas ediciones, publicadas en la colección De \\n'\n",
      " 'Bolsillo, se proponen contribuir a la promoción y protección de los derechos '\n",
      " 'humanos. ')\n",
      "Document 2\n",
      "{'page': 66,\n",
      " 'source': 'documents/derechoshumanos_publicaciones_colecciondebolsillo_01_constitucion_nacion_argentina.pdf'}\n",
      "('66\\n'\n",
      " 'Hasta tanto se haya dictado el estatuto organiza-\\n'\n",
      " 'tivo la designación y remoción de los jueces de la \\n'\n",
      " 'ciudad de Buenos Aires se regirá por las disposiciones de los artículos 114 '\n",
      " 'y 115 de esta Constitución (co-rresponde al artículo 129). \\n'\n",
      " 'Decimosexta: Esta reforma entra en vigencia al \\n'\n",
      " 'día siguiente de su publicación. Los miembros de la Convención '\n",
      " 'Constituyente, el presidente de la Nación Argentina, los presidentes de las '\n",
      " 'Cámaras Legislativas y el Presidente de la Corte Suprema de Justicia prestan '\n",
      " 'juramento en un mismo acto el día 24 de agosto de 1994, en el Palacio San '\n",
      " 'José, Concepción del Uru-guay, Provincia de Entre Ríos. \\n'\n",
      " 'Cada poder del Estado y las autoridades provin-\\n'\n",
      " 'ciales y municipales disponen lo necesario para que sus miembros y '\n",
      " 'funcionarios juren esta Constitución. \\n'\n",
      " 'Decimoséptima: El texto constitucional ordena-\\n'\n",
      " 'do, sancionado por esta Convención Constituyente, reemplaza al hasta ahora '\n",
      " 'vigente. \\n'\n",
      " ' \\n'\n",
      " ' \\n'\n",
      " 'Dada en la sala de sesiones de la Convención \\n'\n",
      " 'Nacional Constituyente, en la ciudad de Santa Fe, a los veintidós días del '\n",
      " 'mes de agosto del año mil nove-cientos noventa y cuatro.')\n",
      "Document 3\n",
      "{'page': 14,\n",
      " 'source': 'documents/derechoshumanos_publicaciones_colecciondebolsillo_01_constitucion_nacion_argentina.pdf'}\n",
      "('14\\n'\n",
      " 'narlos; navegar los ríos y costas; ejercer libremente su \\n'\n",
      " 'culto; testar y casarse conforme a las leyes. No están obligados a admitir '\n",
      " 'la ciudadanía, ni a pagar contri-buciones forzosas extraordinarias. Obtienen '\n",
      " 'naciona-lización residiendo dos años continuos en la Nación; pero la '\n",
      " 'autoridad puede acortar este término a favor del que lo solicite, alegando y '\n",
      " 'probando servicios a la República. \\n'\n",
      " 'Artículo 21.- Todo ciudadano argentino está \\n'\n",
      " 'obligado a armarse en defensa de la patria y de esta Constitución, conforme '\n",
      " 'a las leyes que al efecto dic-te el Congreso y a los decretos del Ejecutivo '\n",
      " 'nacio-nal. Los ciudadanos por naturalización son libres de prestar o no este '\n",
      " 'servicio por el término de diez años contados desde el día en que obtengan '\n",
      " 'su carta de ciudadanía. \\n'\n",
      " 'Artículo 22.- El pueblo no delibera ni gobierna, \\n'\n",
      " 'sino por medio de sus representantes y autoridades creadas por esta '\n",
      " 'Constitución. Toda fuerza armada o reunión de personas que se atribuya los '\n",
      " 'derechos del pueblo y peticione a nombre de éste, comete delito de '\n",
      " 'sedición. \\n'\n",
      " 'Artículo 23.- En caso de conmoción interior o de \\n'\n",
      " 'ataque exterior que pongan en peligro el ejercicio de esta Constitución y de '\n",
      " 'las autoridades creadas por ella, se declarará en estado de sitio la '\n",
      " 'provincia o territorio en donde exista la perturbación del orden, quedan-do '\n",
      " 'suspensas allí las garantías constitucionales. Pero ')\n",
      "Document 4\n",
      "{'page': 38,\n",
      " 'source': 'documents/derechoshumanos_publicaciones_colecciondebolsillo_01_constitucion_nacion_argentina.pdf'}\n",
      "('38\\n'\n",
      " '32. Hacer todas las leyes y reglamentos que sean \\n'\n",
      " 'convenientes para poner en ejercicio los poderes ante-\\n'\n",
      " 'cedentes, y todos los otros concedidos por la presente Constitución al '\n",
      " 'Gobierno de la Nación Argentina. \\n'\n",
      " 'Artículo 76.- Se prohíbe la delegación legislativa \\n'\n",
      " 'en el Poder Ejecutivo, salvo en materias determinadas de administración o de '\n",
      " 'emergencia pública, con pla-zo fijado para su ejercicio y dentro de las '\n",
      " 'bases de la delegación que el Congreso establezca.\\n'\n",
      " 'La caducidad resultante del transcurso del plazo \\n'\n",
      " 'previsto en el párrafo anterior no importará revisión de las relaciones '\n",
      " 'jurídicas nacidas al amparo de las normas dictadas en consecuencia de la '\n",
      " 'delegación legislativa.\\n'\n",
      " 'Capítulo Quinto \\n'\n",
      " 'De la formación y sanción de las leyes \\n'\n",
      " 'Artículo 77.- Las leyes pueden tener principio \\n'\n",
      " 'en cualquiera de las Cámaras del Congreso, por pro-yectos presentados por '\n",
      " 'sus miembros o por el Poder \\n'\n",
      " 'Ejecutivo, salvo las excepciones que establece esta Constitución.\\n'\n",
      " 'Los proyectos de ley que modifiquen el régimen \\n'\n",
      " 'electoral y de partidos políticos deberán ser aproba-dos por mayoría '\n",
      " 'absoluta del total de los miembros de las Cámaras.\\n'\n",
      " 'Artículo 78.- Aprobado un proyecto de ley por la \\n'\n",
      " 'Cámara de su origen, pasa para su discusión a la otra ')\n"
     ]
    }
   ],
   "source": [
    "mmr_documents = vectordb.max_marginal_relevance_search(query=pregunta, k=5, fetch_k=10)\n",
    "print_documents_data(mmr_documents)"
   ],
   "metadata": {
    "collapsed": false,
    "ExecuteTime": {
     "end_time": "2023-12-17T22:57:31.460211Z",
     "start_time": "2023-12-17T22:57:31.106161Z"
    }
   }
  },
  {
   "cell_type": "code",
   "execution_count": null,
   "outputs": [],
   "source": [],
   "metadata": {
    "collapsed": false
   }
  }
 ],
 "metadata": {
  "kernelspec": {
   "display_name": "Python 3",
   "language": "python",
   "name": "python3"
  },
  "language_info": {
   "codemirror_mode": {
    "name": "ipython",
    "version": 2
   },
   "file_extension": ".py",
   "mimetype": "text/x-python",
   "name": "python",
   "nbconvert_exporter": "python",
   "pygments_lexer": "ipython2",
   "version": "2.7.6"
  }
 },
 "nbformat": 4,
 "nbformat_minor": 0
}
