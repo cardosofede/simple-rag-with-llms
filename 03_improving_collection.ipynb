{
 "cells": [
  {
   "cell_type": "code",
   "execution_count": null,
   "metadata": {
    "collapsed": true
   },
   "outputs": [],
   "source": [
    "from dotenv import load_dotenv\n",
    "from langchain.document_loaders.pdf import PyPDFLoader\n",
    "\n",
    "load_dotenv()\n",
    "file_path = \"documents/derechoshumanos_publicaciones_colecciondebolsillo_01_constitucion_nacion_argentina.pdf\"\n",
    "\n",
    "pdf_loader = PyPDFLoader(file_path=file_path)\n",
    "docs = pdf_loader.load()\n",
    "documents_to_store = [doc for doc in docs if len(doc.page_content) > 100]"
   ]
  },
  {
   "cell_type": "code",
   "execution_count": null,
   "outputs": [],
   "source": [
    "text_join = \"\\n\\n\".join([doc.page_content for doc in documents_to_store])"
   ],
   "metadata": {
    "collapsed": false
   }
  },
  {
   "cell_type": "markdown",
   "source": [
    "# Splitting the documents\n",
    "\n",
    "Now we are going to split the documents using RecursiveCharacterTextSplitter"
   ],
   "metadata": {
    "collapsed": false
   }
  },
  {
   "cell_type": "code",
   "execution_count": null,
   "outputs": [],
   "source": [
    "from langchain.text_splitter import RecursiveCharacterTextSplitter\n",
    "chunk_size = 700\n",
    "chunk_overlap = 0\n",
    "\n",
    "r_splitter = RecursiveCharacterTextSplitter(\n",
    "    chunk_size=chunk_size,\n",
    "    chunk_overlap=chunk_overlap,\n",
    "    separators=[\"Artículo\", \"\\nArtículo \", \"Preámbulo\", \"\\nPreámbulo\"],\n",
    ")"
   ],
   "metadata": {
    "collapsed": false
   }
  },
  {
   "cell_type": "code",
   "execution_count": null,
   "outputs": [],
   "source": [
    "docs_splitted = r_splitter.split_text(text_join)"
   ],
   "metadata": {
    "collapsed": false
   }
  },
  {
   "cell_type": "code",
   "execution_count": null,
   "outputs": [],
   "source": [
    "docs_splitted[7]"
   ],
   "metadata": {
    "collapsed": false
   }
  },
  {
   "cell_type": "code",
   "execution_count": null,
   "outputs": [],
   "source": [
    "from langchain.vectorstores.chroma import Chroma\n",
    "from langchain.embeddings import OpenAIEmbeddings\n",
    "\n",
    "embedding = OpenAIEmbeddings()\n",
    "vectordb = Chroma.from_texts(\n",
    "        collection_name=\"constitucion_argentina_v2\",\n",
    "        texts=docs_splitted,\n",
    "        embedding=embedding,\n",
    "        persist_directory=\"vector_store\")"
   ],
   "metadata": {
    "collapsed": false
   }
  },
  {
   "cell_type": "code",
   "execution_count": null,
   "outputs": [],
   "source": [],
   "metadata": {
    "collapsed": false
   }
  }
 ],
 "metadata": {
  "kernelspec": {
   "display_name": "Python 3",
   "language": "python",
   "name": "python3"
  },
  "language_info": {
   "codemirror_mode": {
    "name": "ipython",
    "version": 2
   },
   "file_extension": ".py",
   "mimetype": "text/x-python",
   "name": "python",
   "nbconvert_exporter": "python",
   "pygments_lexer": "ipython2",
   "version": "2.7.6"
  }
 },
 "nbformat": 4,
 "nbformat_minor": 0
}
